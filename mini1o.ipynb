{
 "cells": [
  {
   "cell_type": "code",
   "execution_count": null,
   "id": "7ac957ab",
   "metadata": {},
   "outputs": [],
   "source": [
    "# create the base model and processor for mini1o\n",
    "from mini1o import Mini1oMLLM, Mini1o"
   ]
  },
  {
   "cell_type": "code",
   "execution_count": null,
   "id": "aee366b5",
   "metadata": {},
   "outputs": [],
   "source": []
  },
  {
   "cell_type": "code",
   "execution_count": null,
   "metadata": {},
   "outputs": [],
   "source": []
  },
  {
   "cell_type": "code",
   "execution_count": null,
   "id": "5a0c9a68",
   "metadata": {},
   "outputs": [],
   "source": []
  },
  {
   "cell_type": "code",
   "execution_count": null,
   "id": "a7f48ac5",
   "metadata": {},
   "outputs": [],
   "source": [
    "# 加入特殊token\n",
    "from transformers import AutoTokenizer, AutoProcessor, Qwen2_5_VLForConditionalGeneration\n",
    "\n",
    "# 加载 tokenizer 和 processor\n",
    "tokenizer = AutoTokenizer.from_pretrained(\"Qwen/Qwen2.5-VL-3B-Instruct\")\n",
    "processor = AutoProcessor.from_pretrained(\"Qwen/Qwen2.5-VL-3B-Instruct\")\n",
    "\n",
    "# 定义你要加的 special tokens\n",
    "special_tokens = [\n",
    "    \"<|image_gen_start|>\", \"<|image_gen_pad|>\", \"<|image_gen_end|>\",\n",
    "    \"<|video_gen_start|>\", \"<|video_gen_pad|>\", \"<|video_gen_end|>\"\n",
    "]\n",
    "\n",
    "# 添加 token，并获得它们的 ID\n",
    "tokenizer.add_special_tokens({\"additional_special_tokens\": special_tokens+tokenizer.additional_special_tokens})\n",
    "processor.tokenizer = tokenizer  # 更新 processor 的 tokenizer\n",
    "\n",
    "# 映射到 ID\n",
    "token_ids = {token: tokenizer.convert_tokens_to_ids(token) for token in special_tokens}\n"
   ]
  }
 ],
 "metadata": {
  "kernelspec": {
   "display_name": "Python 3",
   "language": "python",
   "name": "python3"
  },
  "language_info": {
   "codemirror_mode": {
    "name": "ipython",
    "version": 3
   },
   "file_extension": ".py",
   "mimetype": "text/x-python",
   "name": "python",
   "nbconvert_exporter": "python",
   "pygments_lexer": "ipython3",
   "version": "3.10.0"
  }
 },
 "nbformat": 4,
 "nbformat_minor": 5
}
