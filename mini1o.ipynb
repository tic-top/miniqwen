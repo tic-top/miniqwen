{
 "cells": [
  {
   "cell_type": "code",
   "execution_count": null,
   "id": "7ac957ab",
   "metadata": {},
   "outputs": [],
   "source": [
    "# create the base model and processor for mini1o\n",
    "\n"
   ]
  }
 ],
 "metadata": {
  "language_info": {
   "name": "python"
  }
 },
 "nbformat": 4,
 "nbformat_minor": 5
}
